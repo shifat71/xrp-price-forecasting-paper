{
 "cells": [
  {
   "cell_type": "markdown",
   "id": "bc327993",
   "metadata": {},
   "source": [
    "# XRP Price Forecasting Model\n",
    "\n",
    "This notebook demonstrates how to use the XRP price forecasting model for cryptocurrency price prediction.\n",
    "\n",
    "## Overview\n",
    "- Uses LSTM neural networks for time series prediction\n",
    "- Incorporates technical indicators (RSI, MACD, Bollinger Bands, etc.)\n",
    "- Predicts future XRP prices based on historical 3-minute candlestick data"
   ]
  },
  {
   "cell_type": "markdown",
   "id": "7a60caeb",
   "metadata": {},
   "source": [
    "## 1. Setup and Imports"
   ]
  },
  {
   "cell_type": "code",
   "execution_count": null,
   "id": "25c1b161",
   "metadata": {},
   "outputs": [],
   "source": [
    "# Import required libraries\n",
    "import json\n",
    "import numpy as np\n",
    "import pandas as pd\n",
    "import matplotlib.pyplot as plt\n",
    "import seaborn as sns\n",
    "from datetime import datetime, timedelta\n",
    "import os\n",
    "import warnings\n",
    "warnings.filterwarnings('ignore')\n",
    "\n",
    "# Import our model\n",
    "from model import XRPPriceForecaster\n",
    "\n",
    "# Set plotting style\n",
    "plt.style.use('seaborn-v0_8')\n",
    "sns.set_palette(\"husl\")\n",
    "\n",
    "print(\"✅ All imports successful!\")"
   ]
  },
  {
   "cell_type": "markdown",
   "id": "fd3c70f7",
   "metadata": {},
   "source": [
    "## 2. Explore the Dataset"
   ]
  },
  {
   "cell_type": "code",
   "execution_count": null,
   "id": "8e3c60ba",
   "metadata": {},
   "outputs": [],
   "source": [
    "# Load and explore one of the dataset files\n",
    "dataset_files = [f for f in os.listdir(\"dataset\") if f.endswith(\".json\")]\n",
    "print(f\"Found {len(dataset_files)} dataset files:\")\n",
    "for file in dataset_files:\n",
    "    print(f\"  - {file}\")\n",
    "\n",
    "# Load the first file as an example\n",
    "with open(f\"dataset/{dataset_files[0]}\", 'r') as f:\n",
    "    sample_data = json.load(f)\n",
    "\n",
    "print(f\"\\nSample file structure:\")\n",
    "print(f\"- Symbol: {sample_data['metadata']['symbol']}\")\n",
    "print(f\"- Interval: {sample_data['metadata']['interval']}\")\n",
    "print(f\"- Data points: {sample_data['metadata']['data_count']}\")\n",
    "print(f\"- Date range: {sample_data['metadata']['date_range']['start_date']} to {sample_data['metadata']['date_range']['end_date']}\")"
   ]
  },
  {
   "cell_type": "code",
   "execution_count": null,
   "id": "10343f42",
   "metadata": {},
   "outputs": [],
   "source": [
    "# Convert to DataFrame for analysis\n",
    "df_sample = pd.DataFrame(sample_data['market_data'])\n",
    "df_sample['timestamp'] = pd.to_datetime(df_sample['timestamp_ms'], unit='ms')\n",
    "df_sample = df_sample.sort_values('timestamp').reset_index(drop=True)\n",
    "\n",
    "print(\"Sample data:\")\n",
    "print(df_sample.head())\n",
    "\n",
    "print(\"\\nPrice statistics:\")\n",
    "print(df_sample[['open', 'high', 'low', 'close']].describe())"
   ]
  },
  {
   "cell_type": "markdown",
   "id": "a84f09de",
   "metadata": {},
   "source": [
    "## 3. Visualize the Data"
   ]
  },
  {
   "cell_type": "code",
   "execution_count": null,
   "id": "f5eaf472",
   "metadata": {},
   "outputs": [],
   "source": [
    "# Plot price data\n",
    "fig, axes = plt.subplots(2, 2, figsize=(15, 10))\n",
    "\n",
    "# OHLC prices\n",
    "axes[0, 0].plot(df_sample['timestamp'], df_sample['close'], label='Close', alpha=0.8)\n",
    "axes[0, 0].plot(df_sample['timestamp'], df_sample['high'], label='High', alpha=0.6)\n",
    "axes[0, 0].plot(df_sample['timestamp'], df_sample['low'], label='Low', alpha=0.6)\n",
    "axes[0, 0].set_title('XRP Price Over Time')\n",
    "axes[0, 0].set_ylabel('Price (USDT)')\n",
    "axes[0, 0].legend()\n",
    "axes[0, 0].grid(True, alpha=0.3)\n",
    "\n",
    "# Price volatility\n",
    "df_sample['volatility'] = df_sample['close'].rolling(window=10).std()\n",
    "axes[0, 1].plot(df_sample['timestamp'], df_sample['volatility'])\n",
    "axes[0, 1].set_title('Price Volatility (10-period rolling std)')\n",
    "axes[0, 1].set_ylabel('Volatility')\n",
    "axes[0, 1].grid(True, alpha=0.3)\n",
    "\n",
    "# Price changes\n",
    "df_sample['price_change'] = df_sample['close'].diff()\n",
    "axes[1, 0].plot(df_sample['timestamp'], df_sample['price_change'])\n",
    "axes[1, 0].axhline(y=0, color='red', linestyle='--', alpha=0.5)\n",
    "axes[1, 0].set_title('Price Changes')\n",
    "axes[1, 0].set_ylabel('Price Change')\n",
    "axes[1, 0].grid(True, alpha=0.3)\n",
    "\n",
    "# Price distribution\n",
    "axes[1, 1].hist(df_sample['close'], bins=30, alpha=0.7)\n",
    "axes[1, 1].set_title('Price Distribution')\n",
    "axes[1, 1].set_xlabel('Price (USDT)')\n",
    "axes[1, 1].set_ylabel('Frequency')\n",
    "axes[1, 1].grid(True, alpha=0.3)\n",
    "\n",
    "plt.tight_layout()\n",
    "plt.show()"
   ]
  },
  {
   "cell_type": "markdown",
   "id": "8a8e8cd2",
   "metadata": {},
   "source": [
    "## 4. Initialize and Train the Model"
   ]
  },
  {
   "cell_type": "code",
   "execution_count": null,
   "id": "8c654b9b",
   "metadata": {},
   "outputs": [],
   "source": [
    "# Initialize the forecaster\n",
    "forecaster = XRPPriceForecaster(\n",
    "    sequence_length=20,    # Use 20 previous timesteps (1 hour of 3-min data)\n",
    "    prediction_hours=1     # Predict 1 hour ahead\n",
    ")\n",
    "\n",
    "print(\"Model initialized with:\")\n",
    "print(f\"- Sequence length: {forecaster.sequence_length} timesteps\")\n",
    "print(f\"- Prediction horizon: {forecaster.prediction_hours} hour(s)\")\n",
    "print(f\"- Prediction steps: {forecaster.prediction_steps} (3-min intervals)\")"
   ]
  },
  {
   "cell_type": "code",
   "execution_count": null,
   "id": "b1efac43",
   "metadata": {},
   "outputs": [],
   "source": [
    "# Train the model (this may take several minutes)\n",
    "print(\"Starting model training... This may take a few minutes.\")\n",
    "\n",
    "history = forecaster.train(\n",
    "    dataset_folder=\"dataset\",\n",
    "    validation_split=0.2,\n",
    "    epochs=20,  # Reduced for notebook demo - increase for better performance\n",
    "    batch_size=32\n",
    ")\n",
    "\n",
    "print(\"\\n✅ Training completed!\")"
   ]
  },
  {
   "cell_type": "markdown",
   "id": "a4b13ce7",
   "metadata": {},
   "source": [
    "## 5. Visualize Training Results"
   ]
  },
  {
   "cell_type": "code",
   "execution_count": null,
   "id": "72cfef93",
   "metadata": {},
   "outputs": [],
   "source": [
    "# Plot training history\n",
    "fig, (ax1, ax2) = plt.subplots(1, 2, figsize=(12, 4))\n",
    "\n",
    "# Loss curves\n",
    "ax1.plot(history.history['loss'], label='Training Loss')\n",
    "ax1.plot(history.history['val_loss'], label='Validation Loss')\n",
    "ax1.set_title('Model Loss')\n",
    "ax1.set_xlabel('Epoch')\n",
    "ax1.set_ylabel('Loss')\n",
    "ax1.legend()\n",
    "ax1.grid(True, alpha=0.3)\n",
    "\n",
    "# MAE curves\n",
    "ax2.plot(history.history['mae'], label='Training MAE')\n",
    "ax2.plot(history.history['val_mae'], label='Validation MAE')\n",
    "ax2.set_title('Model MAE')\n",
    "ax2.set_xlabel('Epoch')\n",
    "ax2.set_ylabel('MAE')\n",
    "ax2.legend()\n",
    "ax2.grid(True, alpha=0.3)\n",
    "\n",
    "plt.tight_layout()\n",
    "plt.show()"
   ]
  },
  {
   "cell_type": "markdown",
   "id": "297ef334",
   "metadata": {},
   "source": [
    "## 6. Make Predictions"
   ]
  },
  {
   "cell_type": "code",
   "execution_count": null,
   "id": "08d8e5b3",
   "metadata": {},
   "outputs": [],
   "source": [
    "# Use the most recent dataset file for prediction demo\n",
    "recent_data_file = f\"dataset/{sorted(dataset_files)[-1]}\"\n",
    "print(f\"Using recent data from: {recent_data_file}\")\n",
    "\n",
    "# Make prediction\n",
    "prediction_result = forecaster.predict(\n",
    "    recent_data_file=recent_data_file,\n",
    "    output_file=\"notebook_prediction.json\"\n",
    ")\n",
    "\n",
    "print(\"\\n✅ Prediction completed!\")"
   ]
  },
  {
   "cell_type": "markdown",
   "id": "3b6acd67",
   "metadata": {},
   "source": [
    "## 7. Visualize Predictions"
   ]
  },
  {
   "cell_type": "code",
   "execution_count": null,
   "id": "d4188be8",
   "metadata": {},
   "outputs": [],
   "source": [
    "# Load recent data for comparison\n",
    "with open(recent_data_file, 'r') as f:\n",
    "    recent_data = json.load(f)\n",
    "\n",
    "# Convert to DataFrames\n",
    "df_recent = pd.DataFrame(recent_data['market_data'])\n",
    "df_recent['timestamp'] = pd.to_datetime(df_recent['timestamp_ms'], unit='ms')\n",
    "df_recent = df_recent.sort_values('timestamp').reset_index(drop=True)\n",
    "\n",
    "df_prediction = pd.DataFrame(prediction_result['market_data'])\n",
    "df_prediction['timestamp'] = pd.to_datetime(df_prediction['timestamp_ms'], unit='ms')\n",
    "\n",
    "# Plot historical vs predicted prices\n",
    "plt.figure(figsize=(15, 8))\n",
    "\n",
    "# Plot recent historical data (last 60 points for better visualization)\n",
    "recent_subset = df_recent.tail(60)\n",
    "plt.plot(recent_subset['timestamp'], recent_subset['close'], \n",
    "         label='Historical Prices', color='blue', linewidth=2)\n",
    "\n",
    "# Plot predictions\n",
    "plt.plot(df_prediction['timestamp'], df_prediction['close'], \n",
    "         label='Predicted Prices', color='red', linewidth=2, linestyle='--')\n",
    "\n",
    "# Add vertical line to separate historical and predicted data\n",
    "plt.axvline(x=recent_subset['timestamp'].iloc[-1], \n",
    "           color='green', linestyle='-', alpha=0.7, label='Prediction Start')\n",
    "\n",
    "plt.title('XRP Price Prediction: Historical vs Predicted', fontsize=16)\n",
    "plt.xlabel('Time', fontsize=12)\n",
    "plt.ylabel('Price (USDT)', fontsize=12)\n",
    "plt.legend(fontsize=12)\n",
    "plt.grid(True, alpha=0.3)\n",
    "plt.xticks(rotation=45)\n",
    "plt.tight_layout()\n",
    "plt.show()\n",
    "\n",
    "# Print prediction summary\n",
    "predicted_prices = [float(data['close']) for data in prediction_result['market_data']]\n",
    "print(f\"\\n📊 Prediction Summary:\")\n",
    "print(f\"- Prediction period: {df_prediction['timestamp'].min()} to {df_prediction['timestamp'].max()}\")\n",
    "print(f\"- Number of predictions: {len(predicted_prices)}\")\n",
    "print(f\"- Price range: ${min(predicted_prices):.4f} - ${max(predicted_prices):.4f}\")\n",
    "print(f\"- Average predicted price: ${np.mean(predicted_prices):.4f}\")\n",
    "\n",
    "# Calculate trend\n",
    "first_price = predicted_prices[0]\n",
    "last_price = predicted_prices[-1]\n",
    "change = last_price - first_price\n",
    "change_pct = (change / first_price) * 100\n",
    "\n",
    "trend_direction = \"📈 Upward\" if change > 0 else \"📉 Downward\" if change < 0 else \"➡️ Sideways\"\n",
    "print(f\"- Predicted trend: {trend_direction} ({change_pct:+.2f}%)\")"
   ]
  },
  {
   "cell_type": "markdown",
   "id": "26b17020",
   "metadata": {},
   "source": [
    "## 8. Save the Trained Model"
   ]
  },
  {
   "cell_type": "code",
   "execution_count": null,
   "id": "3a90b8df",
   "metadata": {},
   "outputs": [],
   "source": [
    "# Save the trained model for future use\n",
    "forecaster.save_model(\"notebook_xrp_model.h5\", \"notebook_scaler.pkl\")\n",
    "\n",
    "print(\"✅ Model saved successfully!\")\n",
    "print(\"You can now use this trained model for future predictions without retraining.\")"
   ]
  },
  {
   "cell_type": "markdown",
   "id": "25712eb8",
   "metadata": {},
   "source": [
    "## 9. Model Analysis and Insights"
   ]
  },
  {
   "cell_type": "code",
   "execution_count": null,
   "id": "880a9a76",
   "metadata": {},
   "outputs": [],
   "source": [
    "# Analyze prediction characteristics\n",
    "fig, axes = plt.subplots(2, 2, figsize=(15, 10))\n",
    "\n",
    "# Prediction price distribution\n",
    "axes[0, 0].hist(predicted_prices, bins=15, alpha=0.7, color='red')\n",
    "axes[0, 0].set_title('Distribution of Predicted Prices')\n",
    "axes[0, 0].set_xlabel('Price (USDT)')\n",
    "axes[0, 0].set_ylabel('Frequency')\n",
    "axes[0, 0].grid(True, alpha=0.3)\n",
    "\n",
    "# Price changes in predictions\n",
    "pred_changes = np.diff(predicted_prices)\n",
    "axes[0, 1].plot(pred_changes, marker='o', markersize=4)\n",
    "axes[0, 1].axhline(y=0, color='red', linestyle='--', alpha=0.5)\n",
    "axes[0, 1].set_title('Predicted Price Changes')\n",
    "axes[0, 1].set_xlabel('Time Step')\n",
    "axes[0, 1].set_ylabel('Price Change')\n",
    "axes[0, 1].grid(True, alpha=0.3)\n",
    "\n",
    "# Volatility analysis\n",
    "pred_volatility = np.std(predicted_prices)\n",
    "recent_volatility = np.std(recent_subset['close'].tail(20))\n",
    "\n",
    "volatilities = [recent_volatility, pred_volatility]\n",
    "labels = ['Recent Historical', 'Predicted']\n",
    "axes[1, 0].bar(labels, volatilities, color=['blue', 'red'], alpha=0.7)\n",
    "axes[1, 0].set_title('Volatility Comparison')\n",
    "axes[1, 0].set_ylabel('Price Volatility (Std Dev)')\n",
    "axes[1, 0].grid(True, alpha=0.3)\n",
    "\n",
    "# Prediction confidence intervals (simplified)\n",
    "prediction_mean = np.mean(predicted_prices)\n",
    "prediction_std = np.std(predicted_prices)\n",
    "time_steps = range(len(predicted_prices))\n",
    "\n",
    "axes[1, 1].plot(time_steps, predicted_prices, 'r-', label='Prediction', linewidth=2)\n",
    "axes[1, 1].fill_between(time_steps, \n",
    "                       [p - prediction_std for p in predicted_prices],\n",
    "                       [p + prediction_std for p in predicted_prices],\n",
    "                       alpha=0.3, color='red', label='±1 Std Dev')\n",
    "axes[1, 1].set_title('Prediction with Uncertainty Band')\n",
    "axes[1, 1].set_xlabel('Time Step')\n",
    "axes[1, 1].set_ylabel('Price (USDT)')\n",
    "axes[1, 1].legend()\n",
    "axes[1, 1].grid(True, alpha=0.3)\n",
    "\n",
    "plt.tight_layout()\n",
    "plt.show()\n",
    "\n",
    "print(f\"\\n📈 Model Analysis:\")\n",
    "print(f\"- Historical volatility: {recent_volatility:.4f}\")\n",
    "print(f\"- Predicted volatility: {pred_volatility:.4f}\")\n",
    "print(f\"- Volatility ratio: {pred_volatility/recent_volatility:.2f}x\")\n",
    "print(f\"- Max predicted change: {max(pred_changes):.4f}\")\n",
    "print(f\"- Min predicted change: {min(pred_changes):.4f}\")"
   ]
  },
  {
   "cell_type": "markdown",
   "id": "97c17a32",
   "metadata": {},
   "source": [
    "## 10. Next Steps and Usage\n",
    "\n",
    "Now that you have a trained model, you can:\n",
    "\n",
    "1. **Make new predictions** with fresh data:\n",
    "   ```python\n",
    "   # Load saved model\n",
    "   new_forecaster = XRPPriceForecaster()\n",
    "   new_forecaster.load_model(\"notebook_xrp_model.h5\", \"notebook_scaler.pkl\")\n",
    "   \n",
    "   # Make prediction with new data\n",
    "   result = new_forecaster.predict(\"new_recent_data.json\", \"new_prediction.json\")\n",
    "   ```\n",
    "\n",
    "2. **Experiment with different parameters**:\n",
    "   - Increase `sequence_length` for longer historical context\n",
    "   - Adjust `prediction_hours` for different forecasting horizons\n",
    "   - Try different training parameters (epochs, batch_size, etc.)\n",
    "\n",
    "3. **Improve the model**:\n",
    "   - Add more technical indicators\n",
    "   - Use ensemble methods\n",
    "   - Incorporate external market data\n",
    "   - Implement different neural network architectures\n",
    "\n",
    "4. **Validate performance**:\n",
    "   - Backtest on historical data\n",
    "   - Compare with baseline models\n",
    "   - Analyze prediction accuracy over time\n",
    "\n",
    "Remember: This model is for educational purposes. Cryptocurrency trading involves significant risk!"
   ]
  }
 ],
 "metadata": {
  "language_info": {
   "name": "python"
  }
 },
 "nbformat": 4,
 "nbformat_minor": 5
}
